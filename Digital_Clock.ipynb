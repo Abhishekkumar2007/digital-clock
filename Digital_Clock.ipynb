{
 "cells": [
  {
   "cell_type": "code",
   "execution_count": 1,
   "id": "274ac025-7edf-44d3-9325-e2db31f36e2a",
   "metadata": {},
   "outputs": [
    {
     "name": "stdout",
     "output_type": "stream",
     "text": [
      "Overwriting digital_clock.py\n"
     ]
    }
   ],
   "source": [
    "%%writefile digital_clock.py\n",
    "from tkinter import Label, Tk\n",
    "import time\n",
    "\n",
    "app = Tk()\n",
    "app.title(\"🕒 Digital Clock\")\n",
    "app.geometry(\"400x150\")\n",
    "app.resizable(False, False)\n",
    "app.configure(bg=\"black\")\n",
    "\n",
    "clock_label = Label(app, bg=\"black\", fg=\"cyan\", font=(\"Helvetica\", 40), relief='flat')\n",
    "clock_label.place(x=20, y=20)\n",
    "\n",
    "date_label = Label(app, bg=\"black\", fg=\"Yellow\", font=(\"Helvetica\", 15))\n",
    "date_label.place(x=60, y=80)\n",
    "\n",
    "def update_time():\n",
    "    current_time = time.strftime(\"%I:%M:%S %p\")  # 12-hour format\n",
    "    current_date = time.strftime(\"%A, %d %B %Y\")\n",
    "    clock_label.config(text=current_time)\n",
    "    date_label.config(text=current_date)\n",
    "    clock_label.after(1000, update_time)\n",
    "\n",
    "update_time()\n",
    "app.mainloop()"
   ]
  },
  {
   "cell_type": "code",
   "execution_count": null,
   "id": "d9dfdced-5443-421f-9dd2-2a61f70c550b",
   "metadata": {},
   "outputs": [],
   "source": [
    "!python digital_clock.py"
   ]
  },
  {
   "cell_type": "code",
   "execution_count": null,
   "id": "8213f69f-9c70-49fb-ae93-37e6361f4583",
   "metadata": {},
   "outputs": [],
   "source": []
  }
 ],
 "metadata": {
  "kernelspec": {
   "display_name": "Python 3 (ipykernel)",
   "language": "python",
   "name": "python3"
  },
  "language_info": {
   "codemirror_mode": {
    "name": "ipython",
    "version": 3
   },
   "file_extension": ".py",
   "mimetype": "text/x-python",
   "name": "python",
   "nbconvert_exporter": "python",
   "pygments_lexer": "ipython3",
   "version": "3.13.5"
  }
 },
 "nbformat": 4,
 "nbformat_minor": 5
}
